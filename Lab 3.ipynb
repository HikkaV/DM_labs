{
 "cells": [
  {
   "cell_type": "markdown",
   "metadata": {},
   "source": [
    "# Firstly, we will import libraries that will be used"
   ]
  },
  {
   "cell_type": "code",
   "execution_count": 1,
   "metadata": {},
   "outputs": [],
   "source": [
    "import pulp \n",
    "import pandas as pd\n",
    "import time"
   ]
  },
  {
   "cell_type": "markdown",
   "metadata": {},
   "source": [
    "**First of all we will define a function to create pulp variables and save them in a dictionary.**\n",
    "The function **make_variables** accepts two parameters list_variables - list of variables and bounds - list of tuples, where first element is a lower bound and second one is an upper bound."
   ]
  },
  {
   "cell_type": "code",
   "execution_count": 2,
   "metadata": {},
   "outputs": [],
   "source": [
    "def make_variables(list_variables,bounds):\n",
    "    '''\n",
    "    list_variables - python list of variables as strings\n",
    "    bounds - list of tuples of bounds (lower bound, upper bound)\n",
    "    '''\n",
    "    pulp_vars = {}\n",
    "    for i,bound in zip(list_variables,bounds):\n",
    "        pulp_vars.update({i:pulp.LpVariable(i,lowBound=bound[0],upBound=bound[1])})\n",
    "    return pulp_vars"
   ]
  },
  {
   "cell_type": "markdown",
   "metadata": {},
   "source": [
    "Let's for example solve the first problem. We create variables with specified bounds and save them to **pulp_dict** instance."
   ]
  },
  {
   "cell_type": "markdown",
   "metadata": {},
   "source": [
    "1)"
   ]
  },
  {
   "cell_type": "code",
   "execution_count": 3,
   "metadata": {},
   "outputs": [],
   "source": [
    "pulp_dict = make_variables(['x1','x2','x3','x4','x5','x6'],[(0,None),(0,None),(0,None),\n",
    "                                                           (0,None),(0,None),(0,None)])"
   ]
  },
  {
   "cell_type": "markdown",
   "metadata": {},
   "source": [
    "We then can make expressions that will be used in a problem. The expression without any equality or non-equality sign is treated as objective."
   ]
  },
  {
   "cell_type": "code",
   "execution_count": 4,
   "metadata": {},
   "outputs": [],
   "source": [
    "pulp_expressions = [pulp_dict['x1']+pulp_dict['x2']+pulp_dict['x3'],\n",
    "                   pulp_dict['x1']-pulp_dict['x4']-2*pulp_dict['x6']==5,\n",
    "                   pulp_dict['x2']+2*pulp_dict['x4']-3*pulp_dict['x5']+pulp_dict['x6']==3,\n",
    "                   pulp_dict['x3']+2*pulp_dict['x4']-5*pulp_dict['x5']+6*pulp_dict['x6']==5]"
   ]
  },
  {
   "cell_type": "code",
   "execution_count": 5,
   "metadata": {},
   "outputs": [
    {
     "data": {
      "text/plain": [
       "[1*x1 + 1*x2 + 1*x3 + 0,\n",
       " 1*x1 + -1*x4 + -2*x6 + -5 = 0,\n",
       " 1*x2 + 2*x4 + -3*x5 + 1*x6 + -3 = 0,\n",
       " 1*x3 + 2*x4 + -5*x5 + 6*x6 + -5 = 0]"
      ]
     },
     "execution_count": 5,
     "metadata": {},
     "output_type": "execute_result"
    }
   ],
   "source": [
    "pulp_expressions"
   ]
  },
  {
   "cell_type": "markdown",
   "metadata": {},
   "source": [
    "Function **solve** solves the problem for a given objective. It accepts such parameters as :\n",
    "* pulp_expressions - the defined expressions\n",
    "* mode - optimizing mode, max or min\n",
    "* name_solution - name of solution"
   ]
  },
  {
   "cell_type": "code",
   "execution_count": 24,
   "metadata": {},
   "outputs": [],
   "source": [
    "def solve(pulp_expressions,mode='max',name_solution='first'):\n",
    "    '''\n",
    "    pulp_expressions - expressions that will be used to define problem and solve it\n",
    "    mode - optimization mode, either max or min\n",
    "    name_solution - name of the solution \n",
    "    '''\n",
    "    assert mode in ['max','min'], 'mode should be max or min, not {0}'.format(mode)\n",
    "    if mode=='max':\n",
    "        problem = pulp.LpProblem(name_solution,pulp.LpMaximize)\n",
    "    else:\n",
    "        problem = pulp.LpProblem(name_solution,pulp.LpMinimize)\n",
    "    for num,exp in enumerate(pulp_expressions):\n",
    "        problem+=exp,num\n",
    "    print('Problem definition : ')\n",
    "    print(problem)\n",
    "    start = time.time()\n",
    "    problem.solve()\n",
    "    end = time.time()\n",
    "    print('It took {0} seconds to solve the problem'.format(end-start))\n",
    "    values, names = [], []\n",
    "    for variable in problem.variables():\n",
    "        values.append(variable.varValue)\n",
    "        names.append(variable.name)\n",
    "    table = pd.DataFrame(values,names).T\n",
    "    table['objective'] = pulp.value(problem.objective)\n",
    "    display(table.head())"
   ]
  },
  {
   "cell_type": "code",
   "execution_count": 25,
   "metadata": {},
   "outputs": [
    {
     "name": "stdout",
     "output_type": "stream",
     "text": [
      "Problem definition : \n",
      "first:\n",
      "MINIMIZE\n",
      "1*x1 + 1*x2 + 1*x3 + 0\n",
      "SUBJECT TO\n",
      "1: x1 - x4 - 2 x6 = 5\n",
      "\n",
      "2: x2 + 2 x4 - 3 x5 + x6 = 3\n",
      "\n",
      "3: x3 + 2 x4 - 5 x5 + 6 x6 = 5\n",
      "\n",
      "VARIABLES\n",
      "x1 Continuous\n",
      "x2 Continuous\n",
      "x3 Continuous\n",
      "x4 Continuous\n",
      "x5 Continuous\n",
      "x6 Continuous\n",
      "\n",
      "It took 0.023588895797729492 seconds to solve the problem\n"
     ]
    },
    {
     "data": {
      "text/html": [
       "<div>\n",
       "<style scoped>\n",
       "    .dataframe tbody tr th:only-of-type {\n",
       "        vertical-align: middle;\n",
       "    }\n",
       "\n",
       "    .dataframe tbody tr th {\n",
       "        vertical-align: top;\n",
       "    }\n",
       "\n",
       "    .dataframe thead th {\n",
       "        text-align: right;\n",
       "    }\n",
       "</style>\n",
       "<table border=\"1\" class=\"dataframe\">\n",
       "  <thead>\n",
       "    <tr style=\"text-align: right;\">\n",
       "      <th></th>\n",
       "      <th>x1</th>\n",
       "      <th>x2</th>\n",
       "      <th>x3</th>\n",
       "      <th>x4</th>\n",
       "      <th>x5</th>\n",
       "      <th>x6</th>\n",
       "      <th>objective</th>\n",
       "    </tr>\n",
       "  </thead>\n",
       "  <tbody>\n",
       "    <tr>\n",
       "      <th>0</th>\n",
       "      <td>7.1</td>\n",
       "      <td>0.0</td>\n",
       "      <td>0.0</td>\n",
       "      <td>1.3</td>\n",
       "      <td>0.0</td>\n",
       "      <td>0.4</td>\n",
       "      <td>7.1</td>\n",
       "    </tr>\n",
       "  </tbody>\n",
       "</table>\n",
       "</div>"
      ],
      "text/plain": [
       "    x1   x2   x3   x4   x5   x6  objective\n",
       "0  7.1  0.0  0.0  1.3  0.0  0.4        7.1"
      ]
     },
     "metadata": {},
     "output_type": "display_data"
    }
   ],
   "source": [
    "solve(pulp_expressions,'min')"
   ]
  },
  {
   "cell_type": "markdown",
   "metadata": {},
   "source": [
    "# Let's now solve all the other excersizes."
   ]
  },
  {
   "cell_type": "markdown",
   "metadata": {},
   "source": [
    "2)"
   ]
  },
  {
   "cell_type": "code",
   "execution_count": 26,
   "metadata": {},
   "outputs": [],
   "source": [
    "pulp_dict = make_variables(['x1','x2','x3','x4'],[(0,None),(0,None),(0,None),(0,None)])"
   ]
  },
  {
   "cell_type": "code",
   "execution_count": 27,
   "metadata": {},
   "outputs": [],
   "source": [
    "pulp_expressions = [2*pulp_dict['x1']+pulp_dict['x2']-pulp_dict['x3']-pulp_dict['x4'],\n",
    "                   pulp_dict['x1']+pulp_dict['x2']+2*pulp_dict['x3']-pulp_dict['x4']==2,\n",
    "                   2*pulp_dict['x1']+pulp_dict['x2']-3*pulp_dict['x3']+pulp_dict['x4']==6,\n",
    "                   pulp_dict['x1']+pulp_dict['x2']+pulp_dict['x3']+pulp_dict['x4']==7]"
   ]
  },
  {
   "cell_type": "code",
   "execution_count": 28,
   "metadata": {},
   "outputs": [
    {
     "data": {
      "text/plain": [
       "[2*x1 + 1*x2 + -1*x3 + -1*x4 + 0,\n",
       " 1*x1 + 1*x2 + 2*x3 + -1*x4 + -2 = 0,\n",
       " 2*x1 + 1*x2 + -3*x3 + 1*x4 + -6 = 0,\n",
       " 1*x1 + 1*x2 + 1*x3 + 1*x4 + -7 = 0]"
      ]
     },
     "execution_count": 28,
     "metadata": {},
     "output_type": "execute_result"
    }
   ],
   "source": [
    "pulp_expressions"
   ]
  },
  {
   "cell_type": "code",
   "execution_count": 29,
   "metadata": {},
   "outputs": [
    {
     "name": "stdout",
     "output_type": "stream",
     "text": [
      "Problem definition : \n",
      "second:\n",
      "MINIMIZE\n",
      "2*x1 + 1*x2 + -1*x3 + -1*x4 + 0\n",
      "SUBJECT TO\n",
      "1: x1 + x2 + 2 x3 - x4 = 2\n",
      "\n",
      "2: 2 x1 + x2 - 3 x3 + x4 = 6\n",
      "\n",
      "3: x1 + x2 + x3 + x4 = 7\n",
      "\n",
      "VARIABLES\n",
      "x1 Continuous\n",
      "x2 Continuous\n",
      "x3 Continuous\n",
      "x4 Continuous\n",
      "\n",
      "It took 0.07115507125854492 seconds to solve the problem\n"
     ]
    },
    {
     "data": {
      "text/html": [
       "<div>\n",
       "<style scoped>\n",
       "    .dataframe tbody tr th:only-of-type {\n",
       "        vertical-align: middle;\n",
       "    }\n",
       "\n",
       "    .dataframe tbody tr th {\n",
       "        vertical-align: top;\n",
       "    }\n",
       "\n",
       "    .dataframe thead th {\n",
       "        text-align: right;\n",
       "    }\n",
       "</style>\n",
       "<table border=\"1\" class=\"dataframe\">\n",
       "  <thead>\n",
       "    <tr style=\"text-align: right;\">\n",
       "      <th></th>\n",
       "      <th>x1</th>\n",
       "      <th>x2</th>\n",
       "      <th>x3</th>\n",
       "      <th>x4</th>\n",
       "      <th>objective</th>\n",
       "    </tr>\n",
       "  </thead>\n",
       "  <tbody>\n",
       "    <tr>\n",
       "      <th>0</th>\n",
       "      <td>0.0</td>\n",
       "      <td>4.125</td>\n",
       "      <td>0.25</td>\n",
       "      <td>2.625</td>\n",
       "      <td>1.25</td>\n",
       "    </tr>\n",
       "  </tbody>\n",
       "</table>\n",
       "</div>"
      ],
      "text/plain": [
       "    x1     x2    x3     x4  objective\n",
       "0  0.0  4.125  0.25  2.625       1.25"
      ]
     },
     "metadata": {},
     "output_type": "display_data"
    }
   ],
   "source": [
    "solve(pulp_expressions,'min','second')"
   ]
  },
  {
   "cell_type": "markdown",
   "metadata": {},
   "source": [
    "3)"
   ]
  },
  {
   "cell_type": "code",
   "execution_count": 30,
   "metadata": {},
   "outputs": [],
   "source": [
    "pulp_dict = make_variables(['x1','x2','x3'],[(0,None),(0,None),(0,None)])"
   ]
  },
  {
   "cell_type": "code",
   "execution_count": 31,
   "metadata": {},
   "outputs": [],
   "source": [
    "pulp_expressions = [pulp_dict['x1']-2*pulp_dict['x2']+3*pulp_dict['x3'],\n",
    "                   2*pulp_dict['x1']+3*pulp_dict['x2']+4*pulp_dict['x3']==1,\n",
    "                   -2*pulp_dict['x1']+pulp_dict['x2']+3*pulp_dict['x3']==2]"
   ]
  },
  {
   "cell_type": "code",
   "execution_count": 32,
   "metadata": {},
   "outputs": [
    {
     "data": {
      "text/plain": [
       "[1*x1 + -2*x2 + 3*x3 + 0,\n",
       " 2*x1 + 3*x2 + 4*x3 + -1 = 0,\n",
       " -2*x1 + 1*x2 + 3*x3 + -2 = 0]"
      ]
     },
     "execution_count": 32,
     "metadata": {},
     "output_type": "execute_result"
    }
   ],
   "source": [
    "pulp_expressions"
   ]
  },
  {
   "cell_type": "code",
   "execution_count": 33,
   "metadata": {},
   "outputs": [
    {
     "name": "stdout",
     "output_type": "stream",
     "text": [
      "Problem definition : \n",
      "third:\n",
      "MINIMIZE\n",
      "1*x1 + -2*x2 + 3*x3 + 0\n",
      "SUBJECT TO\n",
      "1: 2 x1 + 3 x2 + 4 x3 = 1\n",
      "\n",
      "2: - 2 x1 + x2 + 3 x3 = 2\n",
      "\n",
      "VARIABLES\n",
      "x1 Continuous\n",
      "x2 Continuous\n",
      "x3 Continuous\n",
      "\n",
      "It took 0.024409055709838867 seconds to solve the problem\n"
     ]
    },
    {
     "data": {
      "text/html": [
       "<div>\n",
       "<style scoped>\n",
       "    .dataframe tbody tr th:only-of-type {\n",
       "        vertical-align: middle;\n",
       "    }\n",
       "\n",
       "    .dataframe tbody tr th {\n",
       "        vertical-align: top;\n",
       "    }\n",
       "\n",
       "    .dataframe thead th {\n",
       "        text-align: right;\n",
       "    }\n",
       "</style>\n",
       "<table border=\"1\" class=\"dataframe\">\n",
       "  <thead>\n",
       "    <tr style=\"text-align: right;\">\n",
       "      <th></th>\n",
       "      <th>x1</th>\n",
       "      <th>x2</th>\n",
       "      <th>x3</th>\n",
       "      <th>objective</th>\n",
       "    </tr>\n",
       "  </thead>\n",
       "  <tbody>\n",
       "    <tr>\n",
       "      <th>0</th>\n",
       "      <td>0.0</td>\n",
       "      <td>0.0</td>\n",
       "      <td>0.25</td>\n",
       "      <td>0.75</td>\n",
       "    </tr>\n",
       "  </tbody>\n",
       "</table>\n",
       "</div>"
      ],
      "text/plain": [
       "    x1   x2    x3  objective\n",
       "0  0.0  0.0  0.25       0.75"
      ]
     },
     "metadata": {},
     "output_type": "display_data"
    }
   ],
   "source": [
    "solve(pulp_expressions,'min','third')"
   ]
  },
  {
   "cell_type": "markdown",
   "metadata": {},
   "source": [
    "# Summary"
   ]
  },
  {
   "cell_type": "markdown",
   "metadata": {},
   "source": [
    "The tool for comprehensive decision making was made and tested on 3 excersizes."
   ]
  },
  {
   "cell_type": "markdown",
   "metadata": {},
   "source": [
    "Made by Volodymyr Kovenko."
   ]
  },
  {
   "cell_type": "code",
   "execution_count": null,
   "metadata": {},
   "outputs": [],
   "source": []
  }
 ],
 "metadata": {
  "kernelspec": {
   "display_name": "Python 3",
   "language": "python",
   "name": "python3"
  },
  "language_info": {
   "codemirror_mode": {
    "name": "ipython",
    "version": 3
   },
   "file_extension": ".py",
   "mimetype": "text/x-python",
   "name": "python",
   "nbconvert_exporter": "python",
   "pygments_lexer": "ipython3",
   "version": "3.7.6"
  }
 },
 "nbformat": 4,
 "nbformat_minor": 4
}
