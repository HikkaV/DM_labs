{
 "cells": [
  {
   "cell_type": "markdown",
   "metadata": {},
   "source": [
    "# Firstly, we will import libraries that will be used"
   ]
  },
  {
   "cell_type": "code",
   "execution_count": 160,
   "metadata": {},
   "outputs": [],
   "source": [
    "import pulp \n",
    "import pandas as pd\n",
    "import time"
   ]
  },
  {
   "cell_type": "markdown",
   "metadata": {},
   "source": [
    "**First of all we will define a function to create pulp variables and save them in a dictionary.**\n",
    "The function **make_variables** accepts two parameters list_variables - list of variables and bounds - list of tuples, where first element is a lower bound and second one is an upper bound."
   ]
  },
  {
   "cell_type": "code",
   "execution_count": 170,
   "metadata": {},
   "outputs": [],
   "source": [
    "def make_variables(list_variables,bounds):\n",
    "    '''\n",
    "    list_variables - python list of variables as strings\n",
    "    bounds - list of tuples of bounds (lower bound, upper bound)\n",
    "    '''\n",
    "    pulp_vars = {}\n",
    "    for i,bound in zip(list_variables,bounds):\n",
    "        pulp_vars.update({i:pulp.LpVariable(i,lowBound=bound[0],upBound=bound[1])})\n",
    "    return pulp_vars"
   ]
  },
  {
   "cell_type": "markdown",
   "metadata": {},
   "source": [
    "Let's for example solve the first problem. We create variables with specified bounds and save them to **pulp_dict** instance."
   ]
  },
  {
   "cell_type": "markdown",
   "metadata": {},
   "source": [
    "1)"
   ]
  },
  {
   "cell_type": "code",
   "execution_count": 173,
   "metadata": {},
   "outputs": [],
   "source": [
    "pulp_dict = make_variables(['x1','x2','x3','x4','x5','x6'],[(0,None),(0,None),(0,None),\n",
    "                                                           (0,None),(0,None),(0,None)])"
   ]
  },
  {
   "cell_type": "markdown",
   "metadata": {},
   "source": [
    "We then can make expressions that will be used in a problem. The expression without any equality or non-equality sign is treated as objective."
   ]
  },
  {
   "cell_type": "code",
   "execution_count": 191,
   "metadata": {},
   "outputs": [],
   "source": [
    "pulp_expressions = [pulp_dict['x1']+pulp_dict['x2']+pulp_dict['x3'],\n",
    "                   pulp_dict['x1']-pulp_dict['x4']-2*pulp_dict['x6']==5,\n",
    "                   pulp_dict['x2']+2*pulp_dict['x4']-3*pulp_dict['x5']+pulp_dict['x6']==3,\n",
    "                   pulp_dict['x3']+2*pulp_dict['x4']-5*pulp_dict['x5']+6*pulp_dict['x6']==5]"
   ]
  },
  {
   "cell_type": "code",
   "execution_count": 192,
   "metadata": {},
   "outputs": [
    {
     "data": {
      "text/plain": [
       "[1*x1 + 1*x2 + 1*x3 + 0,\n",
       " 1*x1 + -1*x4 + -2*x6 + -5 = 0,\n",
       " 1*x2 + 2*x4 + -3*x5 + 1*x6 + -3 = 0,\n",
       " 1*x3 + 2*x4 + -5*x5 + 6*x6 + -5 = 0]"
      ]
     },
     "execution_count": 192,
     "metadata": {},
     "output_type": "execute_result"
    }
   ],
   "source": [
    "pulp_expressions"
   ]
  },
  {
   "cell_type": "markdown",
   "metadata": {},
   "source": [
    "Function **solve** solves the problem for a given objective. It accepts such parameters as :\n",
    "* pulp_expressions - the defined expressions\n",
    "* mode - optimizing mode, max or min\n",
    "* name_solution - name of solution"
   ]
  },
  {
   "cell_type": "code",
   "execution_count": 195,
   "metadata": {},
   "outputs": [],
   "source": [
    "def solve(pulp_expressions,mode='max',name_solution='first'):\n",
    "    '''\n",
    "    pulp_expressions - expressions that will be used to define problem and solve it\n",
    "    mode - optimization mode, either max or min\n",
    "    name_solution - name of the solution \n",
    "    '''\n",
    "    assert mode in ['max','min'], 'mode should be max or min, not {0}'.format(mode)\n",
    "    if mode=='max':\n",
    "        problem = pulp.LpProblem(name_solution,pulp.LpMaximize)\n",
    "    else:\n",
    "        problem = pulp.LpProblem(name_solution,pulp.LpMinimize)\n",
    "    for num,exp in enumerate(pulp_expressions):\n",
    "        problem+=exp,num\n",
    "    print('Problem definition : ')\n",
    "    print(problem)\n",
    "    start = time.time()\n",
    "    problem.solve()\n",
    "    end = time.time()\n",
    "    print('It took {0} seconds to solve problem'.format(end-start))\n",
    "    for variable in problem.variables():\n",
    "        print(variable.name, \"=\", variable.varValue)\n",
    "    print(\"Objective : {0}\".format(pulp.value(problem.objective)))"
   ]
  },
  {
   "cell_type": "code",
   "execution_count": 196,
   "metadata": {},
   "outputs": [
    {
     "name": "stdout",
     "output_type": "stream",
     "text": [
      "Problem definition : \n",
      "first:\n",
      "MINIMIZE\n",
      "1*x1 + 1*x2 + 1*x3 + 0\n",
      "SUBJECT TO\n",
      "1: x1 - x4 - 2 x6 = 5\n",
      "\n",
      "2: x2 + 2 x4 - 3 x5 + x6 = 3\n",
      "\n",
      "3: x3 + 2 x4 - 5 x5 + 6 x6 = 5\n",
      "\n",
      "VARIABLES\n",
      "x1 Continuous\n",
      "x2 Continuous\n",
      "x3 Continuous\n",
      "x4 Continuous\n",
      "x5 Continuous\n",
      "x6 Continuous\n",
      "\n",
      "It took 0.019681930541992188 seconds to solve problem\n",
      "x1 = 7.1\n",
      "x2 = 0.0\n",
      "x3 = 0.0\n",
      "x4 = 1.3\n",
      "x5 = 0.0\n",
      "x6 = 0.4\n",
      "Objective : 7.1\n"
     ]
    }
   ],
   "source": [
    "solve(pulp_expressions,'min')"
   ]
  },
  {
   "cell_type": "markdown",
   "metadata": {},
   "source": [
    "# Let's now solve all the other excersizes."
   ]
  },
  {
   "cell_type": "markdown",
   "metadata": {},
   "source": [
    "2)"
   ]
  },
  {
   "cell_type": "code",
   "execution_count": 202,
   "metadata": {},
   "outputs": [],
   "source": [
    "pulp_dict = make_variables(['x1','x2','x3','x4'],[(0,None),(0,None),(0,None),(0,None)])"
   ]
  },
  {
   "cell_type": "code",
   "execution_count": 203,
   "metadata": {},
   "outputs": [],
   "source": [
    "pulp_expressions = [2*pulp_dict['x1']+pulp_dict['x2']-pulp_dict['x3']-pulp_dict['x4'],\n",
    "                   pulp_dict['x1']+pulp_dict['x2']+2*pulp_dict['x3']-pulp_dict['x4']==2,\n",
    "                   2*pulp_dict['x1']+pulp_dict['x2']-3*pulp_dict['x3']+pulp_dict['x4']==6,\n",
    "                   pulp_dict['x1']+pulp_dict['x2']+pulp_dict['x3']+pulp_dict['x4']==7]"
   ]
  },
  {
   "cell_type": "code",
   "execution_count": 204,
   "metadata": {},
   "outputs": [
    {
     "data": {
      "text/plain": [
       "[2*x1 + 1*x2 + -1*x3 + -1*x4 + 0,\n",
       " 1*x1 + 1*x2 + 2*x3 + -1*x4 + -2 = 0,\n",
       " 2*x1 + 1*x2 + -3*x3 + 1*x4 + -6 = 0,\n",
       " 1*x1 + 1*x2 + 1*x3 + 1*x4 + -7 = 0]"
      ]
     },
     "execution_count": 204,
     "metadata": {},
     "output_type": "execute_result"
    }
   ],
   "source": [
    "pulp_expressions"
   ]
  },
  {
   "cell_type": "code",
   "execution_count": 206,
   "metadata": {},
   "outputs": [
    {
     "name": "stdout",
     "output_type": "stream",
     "text": [
      "Problem definition : \n",
      "second:\n",
      "MINIMIZE\n",
      "2*x1 + 1*x2 + -1*x3 + -1*x4 + 0\n",
      "SUBJECT TO\n",
      "1: x1 + x2 + 2 x3 - x4 = 2\n",
      "\n",
      "2: 2 x1 + x2 - 3 x3 + x4 = 6\n",
      "\n",
      "3: x1 + x2 + x3 + x4 = 7\n",
      "\n",
      "VARIABLES\n",
      "x1 Continuous\n",
      "x2 Continuous\n",
      "x3 Continuous\n",
      "x4 Continuous\n",
      "\n",
      "It took 0.022212982177734375 seconds to solve problem\n",
      "x1 = 0.0\n",
      "x2 = 4.125\n",
      "x3 = 0.25\n",
      "x4 = 2.625\n",
      "Objective : 1.25\n"
     ]
    }
   ],
   "source": [
    "solve(pulp_expressions,'min','second')"
   ]
  },
  {
   "cell_type": "markdown",
   "metadata": {},
   "source": [
    "3)"
   ]
  },
  {
   "cell_type": "code",
   "execution_count": 197,
   "metadata": {},
   "outputs": [],
   "source": [
    "pulp_dict = make_variables(['x1','x2','x3'],[(0,None),(0,None),(0,None)])"
   ]
  },
  {
   "cell_type": "code",
   "execution_count": 198,
   "metadata": {},
   "outputs": [],
   "source": [
    "pulp_expressions = [pulp_dict['x1']-2*pulp_dict['x2']+3*pulp_dict['x3'],\n",
    "                   2*pulp_dict['x1']+3*pulp_dict['x2']+4*pulp_dict['x3']==1,\n",
    "                   -2*pulp_dict['x1']+pulp_dict['x2']+3*pulp_dict['x3']==2]"
   ]
  },
  {
   "cell_type": "code",
   "execution_count": 199,
   "metadata": {},
   "outputs": [
    {
     "data": {
      "text/plain": [
       "[1*x1 + -2*x2 + 3*x3 + 0,\n",
       " 2*x1 + 3*x2 + 4*x3 + -1 = 0,\n",
       " -2*x1 + 1*x2 + 3*x3 + -2 = 0]"
      ]
     },
     "execution_count": 199,
     "metadata": {},
     "output_type": "execute_result"
    }
   ],
   "source": [
    "pulp_expressions"
   ]
  },
  {
   "cell_type": "code",
   "execution_count": 207,
   "metadata": {},
   "outputs": [
    {
     "name": "stdout",
     "output_type": "stream",
     "text": [
      "Problem definition : \n",
      "third:\n",
      "MINIMIZE\n",
      "2*x1 + 1*x2 + -1*x3 + -1*x4 + 0\n",
      "SUBJECT TO\n",
      "1: x1 + x2 + 2 x3 - x4 = 2\n",
      "\n",
      "2: 2 x1 + x2 - 3 x3 + x4 = 6\n",
      "\n",
      "3: x1 + x2 + x3 + x4 = 7\n",
      "\n",
      "VARIABLES\n",
      "x1 Continuous\n",
      "x2 Continuous\n",
      "x3 Continuous\n",
      "x4 Continuous\n",
      "\n",
      "It took 0.022691011428833008 seconds to solve problem\n",
      "x1 = 0.0\n",
      "x2 = 4.125\n",
      "x3 = 0.25\n",
      "x4 = 2.625\n",
      "Objective : 1.25\n"
     ]
    }
   ],
   "source": [
    "solve(pulp_expressions,'min','third')"
   ]
  },
  {
   "cell_type": "markdown",
   "metadata": {},
   "source": [
    "# Summary"
   ]
  },
  {
   "cell_type": "markdown",
   "metadata": {},
   "source": [
    "The tool for comprehensive decision making was made and tested on 3 excersizes."
   ]
  },
  {
   "cell_type": "markdown",
   "metadata": {},
   "source": [
    "Made by Volodymyr Kovenko."
   ]
  },
  {
   "cell_type": "code",
   "execution_count": null,
   "metadata": {},
   "outputs": [],
   "source": []
  }
 ],
 "metadata": {
  "kernelspec": {
   "display_name": "Python 3",
   "language": "python",
   "name": "python3"
  },
  "language_info": {
   "codemirror_mode": {
    "name": "ipython",
    "version": 3
   },
   "file_extension": ".py",
   "mimetype": "text/x-python",
   "name": "python",
   "nbconvert_exporter": "python",
   "pygments_lexer": "ipython3",
   "version": "3.7.6"
  }
 },
 "nbformat": 4,
 "nbformat_minor": 4
}
