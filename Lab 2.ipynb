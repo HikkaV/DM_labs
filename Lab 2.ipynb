{
 "cells": [
  {
   "cell_type": "code",
   "execution_count": 112,
   "metadata": {},
   "outputs": [],
   "source": [
    "import pandas as pd \n",
    "import numpy as np"
   ]
  },
  {
   "cell_type": "markdown",
   "metadata": {},
   "source": [
    "# 1. The example with place of work "
   ]
  },
  {
   "cell_type": "markdown",
   "metadata": {},
   "source": [
    "Let's generate some fake data about salary, duration of vacation in days and time spent to get to work"
   ]
  },
  {
   "cell_type": "code",
   "execution_count": 133,
   "metadata": {},
   "outputs": [],
   "source": [
    "data = np.array([[12000,18,60],\n",
    "        [15000,14,30],\n",
    "         [10000,7,15],\n",
    "         [30000,21,180],\n",
    "         [5000,7,10],\n",
    "         [9000,17,5],\n",
    "         [30000,16,8],\n",
    "         [16000,8,5]])"
   ]
  },
  {
   "cell_type": "markdown",
   "metadata": {},
   "source": [
    "Let's now cast everything to a pandas data frame for the sake of simplicity"
   ]
  },
  {
   "cell_type": "code",
   "execution_count": 134,
   "metadata": {},
   "outputs": [],
   "source": [
    "df = pd.DataFrame(data,columns=['Salary','Vacation','Time'],\n",
    "             index=['A','B','C','D','E','F','G','H'])"
   ]
  },
  {
   "cell_type": "code",
   "execution_count": 135,
   "metadata": {},
   "outputs": [
    {
     "data": {
      "text/html": [
       "<div>\n",
       "<style scoped>\n",
       "    .dataframe tbody tr th:only-of-type {\n",
       "        vertical-align: middle;\n",
       "    }\n",
       "\n",
       "    .dataframe tbody tr th {\n",
       "        vertical-align: top;\n",
       "    }\n",
       "\n",
       "    .dataframe thead th {\n",
       "        text-align: right;\n",
       "    }\n",
       "</style>\n",
       "<table border=\"1\" class=\"dataframe\">\n",
       "  <thead>\n",
       "    <tr style=\"text-align: right;\">\n",
       "      <th></th>\n",
       "      <th>Salary</th>\n",
       "      <th>Vacation</th>\n",
       "      <th>Time</th>\n",
       "    </tr>\n",
       "  </thead>\n",
       "  <tbody>\n",
       "    <tr>\n",
       "      <th>A</th>\n",
       "      <td>12000</td>\n",
       "      <td>18</td>\n",
       "      <td>60</td>\n",
       "    </tr>\n",
       "    <tr>\n",
       "      <th>B</th>\n",
       "      <td>15000</td>\n",
       "      <td>14</td>\n",
       "      <td>30</td>\n",
       "    </tr>\n",
       "    <tr>\n",
       "      <th>C</th>\n",
       "      <td>10000</td>\n",
       "      <td>7</td>\n",
       "      <td>15</td>\n",
       "    </tr>\n",
       "    <tr>\n",
       "      <th>D</th>\n",
       "      <td>30000</td>\n",
       "      <td>21</td>\n",
       "      <td>180</td>\n",
       "    </tr>\n",
       "    <tr>\n",
       "      <th>E</th>\n",
       "      <td>5000</td>\n",
       "      <td>7</td>\n",
       "      <td>10</td>\n",
       "    </tr>\n",
       "    <tr>\n",
       "      <th>F</th>\n",
       "      <td>9000</td>\n",
       "      <td>17</td>\n",
       "      <td>5</td>\n",
       "    </tr>\n",
       "    <tr>\n",
       "      <th>G</th>\n",
       "      <td>30000</td>\n",
       "      <td>16</td>\n",
       "      <td>8</td>\n",
       "    </tr>\n",
       "    <tr>\n",
       "      <th>H</th>\n",
       "      <td>16000</td>\n",
       "      <td>8</td>\n",
       "      <td>5</td>\n",
       "    </tr>\n",
       "  </tbody>\n",
       "</table>\n",
       "</div>"
      ],
      "text/plain": [
       "   Salary  Vacation  Time\n",
       "A   12000        18    60\n",
       "B   15000        14    30\n",
       "C   10000         7    15\n",
       "D   30000        21   180\n",
       "E    5000         7    10\n",
       "F    9000        17     5\n",
       "G   30000        16     8\n",
       "H   16000         8     5"
      ]
     },
     "execution_count": 135,
     "metadata": {},
     "output_type": "execute_result"
    }
   ],
   "source": [
    "df"
   ]
  },
  {
   "cell_type": "markdown",
   "metadata": {},
   "source": [
    "dict_opt contains names of columns and a way we want to optimize with respect to this columns"
   ]
  },
  {
   "cell_type": "code",
   "execution_count": 136,
   "metadata": {},
   "outputs": [],
   "source": [
    "dict_opt = {'Salary' : 'max','Vacation' : 'max',\n",
    "           'Time' : 'min'}"
   ]
  },
  {
   "cell_type": "markdown",
   "metadata": {},
   "source": [
    "The function pareto_comparison compares the variants between each other and returns the list of those,\n",
    "that are dominated by others."
   ]
  },
  {
   "cell_type": "code",
   "execution_count": 137,
   "metadata": {},
   "outputs": [],
   "source": [
    "def pareto_comparison(df,dict_opt):\n",
    "    to_delete = set()\n",
    "    for i in df.iterrows():\n",
    "        for z in df.iterrows():\n",
    "            first = dict(zip(list(i[1].index),i[1].values))\n",
    "            second = dict(zip(list(z[1].index),z[1].values))\n",
    "            holder = []\n",
    "            for column,mode in dict_opt.items():\n",
    "                if mode=='max':\n",
    "                    if first[column]>second[column]:\n",
    "                        holder.append('strong')\n",
    "                    else:\n",
    "                        holder.append('broken')\n",
    "                else:\n",
    "                    if first[column]<second[column]:\n",
    "                        holder.append('strong')\n",
    "                    else:\n",
    "                        holder.append('broken')\n",
    "            if 'strong' in holder and not 'broken' in holder:\n",
    "                to_delete.add(z[0])\n",
    "    print(\"Companies that shouldn't be included due to Pareto algorithm : {}\".format(to_delete))\n",
    "    return to_delete"
   ]
  },
  {
   "cell_type": "code",
   "execution_count": 138,
   "metadata": {},
   "outputs": [
    {
     "name": "stdout",
     "output_type": "stream",
     "text": [
      "Companies that shouldn't be included due to Pareto algorithm : {'E', 'C', 'B'}\n"
     ]
    }
   ],
   "source": [
    "to_delete = pareto_comparison(df,dict_opt)"
   ]
  },
  {
   "cell_type": "code",
   "execution_count": 139,
   "metadata": {},
   "outputs": [],
   "source": [
    "df = df[~df.index.isin(to_delete)]"
   ]
  },
  {
   "cell_type": "code",
   "execution_count": 140,
   "metadata": {},
   "outputs": [
    {
     "data": {
      "text/html": [
       "<div>\n",
       "<style scoped>\n",
       "    .dataframe tbody tr th:only-of-type {\n",
       "        vertical-align: middle;\n",
       "    }\n",
       "\n",
       "    .dataframe tbody tr th {\n",
       "        vertical-align: top;\n",
       "    }\n",
       "\n",
       "    .dataframe thead th {\n",
       "        text-align: right;\n",
       "    }\n",
       "</style>\n",
       "<table border=\"1\" class=\"dataframe\">\n",
       "  <thead>\n",
       "    <tr style=\"text-align: right;\">\n",
       "      <th></th>\n",
       "      <th>Salary</th>\n",
       "      <th>Vacation</th>\n",
       "      <th>Time</th>\n",
       "    </tr>\n",
       "  </thead>\n",
       "  <tbody>\n",
       "    <tr>\n",
       "      <th>A</th>\n",
       "      <td>12000</td>\n",
       "      <td>18</td>\n",
       "      <td>60</td>\n",
       "    </tr>\n",
       "    <tr>\n",
       "      <th>D</th>\n",
       "      <td>30000</td>\n",
       "      <td>21</td>\n",
       "      <td>180</td>\n",
       "    </tr>\n",
       "    <tr>\n",
       "      <th>F</th>\n",
       "      <td>9000</td>\n",
       "      <td>17</td>\n",
       "      <td>5</td>\n",
       "    </tr>\n",
       "    <tr>\n",
       "      <th>G</th>\n",
       "      <td>30000</td>\n",
       "      <td>16</td>\n",
       "      <td>8</td>\n",
       "    </tr>\n",
       "    <tr>\n",
       "      <th>H</th>\n",
       "      <td>16000</td>\n",
       "      <td>8</td>\n",
       "      <td>5</td>\n",
       "    </tr>\n",
       "  </tbody>\n",
       "</table>\n",
       "</div>"
      ],
      "text/plain": [
       "   Salary  Vacation  Time\n",
       "A   12000        18    60\n",
       "D   30000        21   180\n",
       "F    9000        17     5\n",
       "G   30000        16     8\n",
       "H   16000         8     5"
      ]
     },
     "execution_count": 140,
     "metadata": {},
     "output_type": "execute_result"
    }
   ],
   "source": [
    "df"
   ]
  },
  {
   "cell_type": "markdown",
   "metadata": {},
   "source": [
    "The function ideal_dot implements the ideal dot algorithm for finding the best variant or set of variants. Also applying additional weights is possible."
   ]
  },
  {
   "cell_type": "code",
   "execution_count": 141,
   "metadata": {},
   "outputs": [],
   "source": [
    "def ideal_dot(df,weights_dict=None):\n",
    "    if not weights_dict:\n",
    "        weights_dict = dict(zip(list(df.columns),np.repeat(1,len(df.columns))))\n",
    "    for i in df.columns:\n",
    "        df[i] = df[i].apply(lambda x: weights_dict[i]*(df[i].max()-x)/(df[i].max()-df[i].min()))\n",
    "    min_list = []\n",
    "    max_list = []\n",
    "    for i in df.index:\n",
    "        min_list.append(df.loc[i].mean())\n",
    "        max_list.append(df.loc[i].max())\n",
    "    df['ideal_dot1'] = np.array(min_list).reshape(-1,1)\n",
    "    df['ideal_dot2'] = np.array(max_list).reshape(-1,1)\n",
    "    ideal_variant = df[(df['ideal_dot1']==df['ideal_dot1'].min()) & (df['ideal_dot2']==df['ideal_dot2'].min())]\n",
    "    if ideal_variant.values.size>0:\n",
    "        return ideal_variant.index[0]\n",
    "    else:\n",
    "        ideal_variants = df[(df['ideal_dot1']==df['ideal_dot1'].min()) | (df['ideal_dot2']==df['ideal_dot2'].min())]\n",
    "        return list(ideal_variants.index)"
   ]
  },
  {
   "cell_type": "code",
   "execution_count": 142,
   "metadata": {},
   "outputs": [],
   "source": [
    "ideal_variant = ideal_dot(df.copy())"
   ]
  },
  {
   "cell_type": "code",
   "execution_count": 143,
   "metadata": {},
   "outputs": [
    {
     "name": "stdout",
     "output_type": "stream",
     "text": [
      "Ideal variant is a company : D\n"
     ]
    }
   ],
   "source": [
    "print('Ideal variant is a company : {0}'.format(ideal_variant))"
   ]
  },
  {
   "cell_type": "markdown",
   "metadata": {},
   "source": [
    "# 2. The example with choosing cellphones"
   ]
  },
  {
   "cell_type": "code",
   "execution_count": 152,
   "metadata": {},
   "outputs": [],
   "source": [
    "phones = np.array([[5,4,5,1,3],\n",
    "        [5,3,5,1,3],\n",
    "        [2,5,2,1,2],\n",
    "        [1,5,5,3,5],\n",
    "        [5,2,1,3,4],\n",
    "        [1,5,2,3,5]])"
   ]
  },
  {
   "cell_type": "code",
   "execution_count": 154,
   "metadata": {},
   "outputs": [],
   "source": [
    "columns = ['Cost-effectiveness','Reliability','Economical use','Resistance','Design']"
   ]
  },
  {
   "cell_type": "code",
   "execution_count": 155,
   "metadata": {},
   "outputs": [],
   "source": [
    "df = pd.DataFrame(phones,columns=columns,\n",
    "                 index=['Nokia','Xiaomi','Samsung','Google Pixel','Honor','Iphone'])"
   ]
  },
  {
   "cell_type": "code",
   "execution_count": 156,
   "metadata": {},
   "outputs": [
    {
     "data": {
      "text/html": [
       "<div>\n",
       "<style scoped>\n",
       "    .dataframe tbody tr th:only-of-type {\n",
       "        vertical-align: middle;\n",
       "    }\n",
       "\n",
       "    .dataframe tbody tr th {\n",
       "        vertical-align: top;\n",
       "    }\n",
       "\n",
       "    .dataframe thead th {\n",
       "        text-align: right;\n",
       "    }\n",
       "</style>\n",
       "<table border=\"1\" class=\"dataframe\">\n",
       "  <thead>\n",
       "    <tr style=\"text-align: right;\">\n",
       "      <th></th>\n",
       "      <th>Cost-effectiveness</th>\n",
       "      <th>Reliability</th>\n",
       "      <th>Economical use</th>\n",
       "      <th>Resistance</th>\n",
       "      <th>Design</th>\n",
       "    </tr>\n",
       "  </thead>\n",
       "  <tbody>\n",
       "    <tr>\n",
       "      <th>Nokia</th>\n",
       "      <td>5</td>\n",
       "      <td>4</td>\n",
       "      <td>5</td>\n",
       "      <td>1</td>\n",
       "      <td>3</td>\n",
       "    </tr>\n",
       "    <tr>\n",
       "      <th>Xiaomi</th>\n",
       "      <td>5</td>\n",
       "      <td>3</td>\n",
       "      <td>5</td>\n",
       "      <td>1</td>\n",
       "      <td>3</td>\n",
       "    </tr>\n",
       "    <tr>\n",
       "      <th>Samsung</th>\n",
       "      <td>2</td>\n",
       "      <td>5</td>\n",
       "      <td>2</td>\n",
       "      <td>1</td>\n",
       "      <td>2</td>\n",
       "    </tr>\n",
       "    <tr>\n",
       "      <th>Google Pixel</th>\n",
       "      <td>1</td>\n",
       "      <td>5</td>\n",
       "      <td>5</td>\n",
       "      <td>3</td>\n",
       "      <td>5</td>\n",
       "    </tr>\n",
       "    <tr>\n",
       "      <th>Honor</th>\n",
       "      <td>5</td>\n",
       "      <td>2</td>\n",
       "      <td>1</td>\n",
       "      <td>3</td>\n",
       "      <td>4</td>\n",
       "    </tr>\n",
       "    <tr>\n",
       "      <th>Iphone</th>\n",
       "      <td>1</td>\n",
       "      <td>5</td>\n",
       "      <td>2</td>\n",
       "      <td>3</td>\n",
       "      <td>5</td>\n",
       "    </tr>\n",
       "  </tbody>\n",
       "</table>\n",
       "</div>"
      ],
      "text/plain": [
       "              Cost-effectiveness  Reliability  Economical use  Resistance  \\\n",
       "Nokia                          5            4               5           1   \n",
       "Xiaomi                         5            3               5           1   \n",
       "Samsung                        2            5               2           1   \n",
       "Google Pixel                   1            5               5           3   \n",
       "Honor                          5            2               1           3   \n",
       "Iphone                         1            5               2           3   \n",
       "\n",
       "              Design  \n",
       "Nokia              3  \n",
       "Xiaomi             3  \n",
       "Samsung            2  \n",
       "Google Pixel       5  \n",
       "Honor              4  \n",
       "Iphone             5  "
      ]
     },
     "execution_count": 156,
     "metadata": {},
     "output_type": "execute_result"
    }
   ],
   "source": [
    "df"
   ]
  },
  {
   "cell_type": "code",
   "execution_count": 157,
   "metadata": {},
   "outputs": [],
   "source": [
    "dict_opt = dict(zip(columns,np.repeat('max',len(columns))))"
   ]
  },
  {
   "cell_type": "code",
   "execution_count": 158,
   "metadata": {},
   "outputs": [
    {
     "name": "stdout",
     "output_type": "stream",
     "text": [
      "Companies that shouldn't be included due to Pareto algorithm : set()\n"
     ]
    }
   ],
   "source": [
    "to_delete = pareto_comparison(df,dict_opt)"
   ]
  },
  {
   "cell_type": "code",
   "execution_count": 159,
   "metadata": {},
   "outputs": [],
   "source": [
    "ideal_variant = ideal_dot(df.copy())"
   ]
  },
  {
   "cell_type": "code",
   "execution_count": 160,
   "metadata": {},
   "outputs": [
    {
     "name": "stdout",
     "output_type": "stream",
     "text": [
      "Ideal variant is a phone : Google Pixel\n"
     ]
    }
   ],
   "source": [
    "print('Ideal variant is a phone : {0}'.format(ideal_variant))"
   ]
  },
  {
   "cell_type": "code",
   "execution_count": null,
   "metadata": {},
   "outputs": [],
   "source": []
  }
 ],
 "metadata": {
  "kernelspec": {
   "display_name": "Python 3",
   "language": "python",
   "name": "python3"
  },
  "language_info": {
   "codemirror_mode": {
    "name": "ipython",
    "version": 3
   },
   "file_extension": ".py",
   "mimetype": "text/x-python",
   "name": "python",
   "nbconvert_exporter": "python",
   "pygments_lexer": "ipython3",
   "version": "3.7.6"
  }
 },
 "nbformat": 4,
 "nbformat_minor": 4
}
